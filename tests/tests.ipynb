{
 "cells": [
  {
   "cell_type": "markdown",
   "metadata": {},
   "source": [
    "testes"
   ]
  }
 ],
 "metadata": {
  "kernelspec": {
   "display_name": "Python (iFood Env)",
   "language": "python",
   "name": "ifood_case_env"
  },
  "language_info": {
   "name": "python",
   "version": "3.12.4"
  }
 },
 "nbformat": 4,
 "nbformat_minor": 2
}
